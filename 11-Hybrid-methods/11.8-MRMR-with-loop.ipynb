{
 "cells": [
  {
   "cell_type": "markdown",
   "id": "959ca876-03a7-4f26-8e5e-5ae64936b884",
   "metadata": {},
   "source": [
    "# Automate manual MRMR with a loop\n",
    "\n",
    "In this notebook, we'll automate the process of selecting features with MRMR by capturing the logic of the previous notebook in a loop."
   ]
  },
  {
   "cell_type": "code",
   "execution_count": 1,
   "id": "1ba08037",
   "metadata": {},
   "outputs": [],
   "source": [
    "import numpy as np\n",
    "import pandas as pd\n",
    "\n",
    "import matplotlib.pyplot as plt\n",
    "\n",
    "from sklearn.model_selection import train_test_split\n",
    "from sklearn.datasets import load_breast_cancer\n",
    "\n",
    "# to obtain the mutual information values\n",
    "from sklearn.feature_selection import (\n",
    "    mutual_info_classif,\n",
    "    mutual_info_regression,\n",
    "    f_classif,\n",
    "    f_regression,\n",
    ")"
   ]
  },
  {
   "cell_type": "markdown",
   "id": "217cf1b7-2777-41d8-a5d5-8552add1847d",
   "metadata": {},
   "source": [
    "## Mutual information"
   ]
  },
  {
   "cell_type": "code",
   "execution_count": 2,
   "id": "74686661",
   "metadata": {},
   "outputs": [
    {
     "data": {
      "text/html": [
       "<div>\n",
       "<style scoped>\n",
       "    .dataframe tbody tr th:only-of-type {\n",
       "        vertical-align: middle;\n",
       "    }\n",
       "\n",
       "    .dataframe tbody tr th {\n",
       "        vertical-align: top;\n",
       "    }\n",
       "\n",
       "    .dataframe thead th {\n",
       "        text-align: right;\n",
       "    }\n",
       "</style>\n",
       "<table border=\"1\" class=\"dataframe\">\n",
       "  <thead>\n",
       "    <tr style=\"text-align: right;\">\n",
       "      <th></th>\n",
       "      <th>mean radius</th>\n",
       "      <th>mean texture</th>\n",
       "      <th>mean perimeter</th>\n",
       "      <th>mean area</th>\n",
       "      <th>mean smoothness</th>\n",
       "      <th>mean compactness</th>\n",
       "      <th>mean concavity</th>\n",
       "      <th>mean concave points</th>\n",
       "      <th>mean symmetry</th>\n",
       "      <th>mean fractal dimension</th>\n",
       "      <th>...</th>\n",
       "      <th>worst radius</th>\n",
       "      <th>worst texture</th>\n",
       "      <th>worst perimeter</th>\n",
       "      <th>worst area</th>\n",
       "      <th>worst smoothness</th>\n",
       "      <th>worst compactness</th>\n",
       "      <th>worst concavity</th>\n",
       "      <th>worst concave points</th>\n",
       "      <th>worst symmetry</th>\n",
       "      <th>worst fractal dimension</th>\n",
       "    </tr>\n",
       "  </thead>\n",
       "  <tbody>\n",
       "    <tr>\n",
       "      <th>0</th>\n",
       "      <td>17.99</td>\n",
       "      <td>10.38</td>\n",
       "      <td>122.80</td>\n",
       "      <td>1001.0</td>\n",
       "      <td>0.11840</td>\n",
       "      <td>0.27760</td>\n",
       "      <td>0.3001</td>\n",
       "      <td>0.14710</td>\n",
       "      <td>0.2419</td>\n",
       "      <td>0.07871</td>\n",
       "      <td>...</td>\n",
       "      <td>25.38</td>\n",
       "      <td>17.33</td>\n",
       "      <td>184.60</td>\n",
       "      <td>2019.0</td>\n",
       "      <td>0.1622</td>\n",
       "      <td>0.6656</td>\n",
       "      <td>0.7119</td>\n",
       "      <td>0.2654</td>\n",
       "      <td>0.4601</td>\n",
       "      <td>0.11890</td>\n",
       "    </tr>\n",
       "    <tr>\n",
       "      <th>1</th>\n",
       "      <td>20.57</td>\n",
       "      <td>17.77</td>\n",
       "      <td>132.90</td>\n",
       "      <td>1326.0</td>\n",
       "      <td>0.08474</td>\n",
       "      <td>0.07864</td>\n",
       "      <td>0.0869</td>\n",
       "      <td>0.07017</td>\n",
       "      <td>0.1812</td>\n",
       "      <td>0.05667</td>\n",
       "      <td>...</td>\n",
       "      <td>24.99</td>\n",
       "      <td>23.41</td>\n",
       "      <td>158.80</td>\n",
       "      <td>1956.0</td>\n",
       "      <td>0.1238</td>\n",
       "      <td>0.1866</td>\n",
       "      <td>0.2416</td>\n",
       "      <td>0.1860</td>\n",
       "      <td>0.2750</td>\n",
       "      <td>0.08902</td>\n",
       "    </tr>\n",
       "    <tr>\n",
       "      <th>2</th>\n",
       "      <td>19.69</td>\n",
       "      <td>21.25</td>\n",
       "      <td>130.00</td>\n",
       "      <td>1203.0</td>\n",
       "      <td>0.10960</td>\n",
       "      <td>0.15990</td>\n",
       "      <td>0.1974</td>\n",
       "      <td>0.12790</td>\n",
       "      <td>0.2069</td>\n",
       "      <td>0.05999</td>\n",
       "      <td>...</td>\n",
       "      <td>23.57</td>\n",
       "      <td>25.53</td>\n",
       "      <td>152.50</td>\n",
       "      <td>1709.0</td>\n",
       "      <td>0.1444</td>\n",
       "      <td>0.4245</td>\n",
       "      <td>0.4504</td>\n",
       "      <td>0.2430</td>\n",
       "      <td>0.3613</td>\n",
       "      <td>0.08758</td>\n",
       "    </tr>\n",
       "    <tr>\n",
       "      <th>3</th>\n",
       "      <td>11.42</td>\n",
       "      <td>20.38</td>\n",
       "      <td>77.58</td>\n",
       "      <td>386.1</td>\n",
       "      <td>0.14250</td>\n",
       "      <td>0.28390</td>\n",
       "      <td>0.2414</td>\n",
       "      <td>0.10520</td>\n",
       "      <td>0.2597</td>\n",
       "      <td>0.09744</td>\n",
       "      <td>...</td>\n",
       "      <td>14.91</td>\n",
       "      <td>26.50</td>\n",
       "      <td>98.87</td>\n",
       "      <td>567.7</td>\n",
       "      <td>0.2098</td>\n",
       "      <td>0.8663</td>\n",
       "      <td>0.6869</td>\n",
       "      <td>0.2575</td>\n",
       "      <td>0.6638</td>\n",
       "      <td>0.17300</td>\n",
       "    </tr>\n",
       "    <tr>\n",
       "      <th>4</th>\n",
       "      <td>20.29</td>\n",
       "      <td>14.34</td>\n",
       "      <td>135.10</td>\n",
       "      <td>1297.0</td>\n",
       "      <td>0.10030</td>\n",
       "      <td>0.13280</td>\n",
       "      <td>0.1980</td>\n",
       "      <td>0.10430</td>\n",
       "      <td>0.1809</td>\n",
       "      <td>0.05883</td>\n",
       "      <td>...</td>\n",
       "      <td>22.54</td>\n",
       "      <td>16.67</td>\n",
       "      <td>152.20</td>\n",
       "      <td>1575.0</td>\n",
       "      <td>0.1374</td>\n",
       "      <td>0.2050</td>\n",
       "      <td>0.4000</td>\n",
       "      <td>0.1625</td>\n",
       "      <td>0.2364</td>\n",
       "      <td>0.07678</td>\n",
       "    </tr>\n",
       "  </tbody>\n",
       "</table>\n",
       "<p>5 rows × 30 columns</p>\n",
       "</div>"
      ],
      "text/plain": [
       "   mean radius  mean texture  mean perimeter  mean area  mean smoothness  \\\n",
       "0        17.99         10.38          122.80     1001.0          0.11840   \n",
       "1        20.57         17.77          132.90     1326.0          0.08474   \n",
       "2        19.69         21.25          130.00     1203.0          0.10960   \n",
       "3        11.42         20.38           77.58      386.1          0.14250   \n",
       "4        20.29         14.34          135.10     1297.0          0.10030   \n",
       "\n",
       "   mean compactness  mean concavity  mean concave points  mean symmetry  \\\n",
       "0           0.27760          0.3001              0.14710         0.2419   \n",
       "1           0.07864          0.0869              0.07017         0.1812   \n",
       "2           0.15990          0.1974              0.12790         0.2069   \n",
       "3           0.28390          0.2414              0.10520         0.2597   \n",
       "4           0.13280          0.1980              0.10430         0.1809   \n",
       "\n",
       "   mean fractal dimension  ...  worst radius  worst texture  worst perimeter  \\\n",
       "0                 0.07871  ...         25.38          17.33           184.60   \n",
       "1                 0.05667  ...         24.99          23.41           158.80   \n",
       "2                 0.05999  ...         23.57          25.53           152.50   \n",
       "3                 0.09744  ...         14.91          26.50            98.87   \n",
       "4                 0.05883  ...         22.54          16.67           152.20   \n",
       "\n",
       "   worst area  worst smoothness  worst compactness  worst concavity  \\\n",
       "0      2019.0            0.1622             0.6656           0.7119   \n",
       "1      1956.0            0.1238             0.1866           0.2416   \n",
       "2      1709.0            0.1444             0.4245           0.4504   \n",
       "3       567.7            0.2098             0.8663           0.6869   \n",
       "4      1575.0            0.1374             0.2050           0.4000   \n",
       "\n",
       "   worst concave points  worst symmetry  worst fractal dimension  \n",
       "0                0.2654          0.4601                  0.11890  \n",
       "1                0.1860          0.2750                  0.08902  \n",
       "2                0.2430          0.3613                  0.08758  \n",
       "3                0.2575          0.6638                  0.17300  \n",
       "4                0.1625          0.2364                  0.07678  \n",
       "\n",
       "[5 rows x 30 columns]"
      ]
     },
     "execution_count": 2,
     "metadata": {},
     "output_type": "execute_result"
    }
   ],
   "source": [
    "X, y = load_breast_cancer(return_X_y = True, as_frame=True)\n",
    "\n",
    "X.head()"
   ]
  },
  {
   "cell_type": "code",
   "execution_count": 3,
   "id": "34c6cfeb",
   "metadata": {},
   "outputs": [
    {
     "data": {
      "text/plain": [
       "array([0, 1])"
      ]
     },
     "execution_count": 3,
     "metadata": {},
     "output_type": "execute_result"
    }
   ],
   "source": [
    "y.unique()"
   ]
  },
  {
   "cell_type": "code",
   "execution_count": 4,
   "id": "b1ce281d",
   "metadata": {},
   "outputs": [],
   "source": [
    "# calculate relevance\n",
    "\n",
    "relevance = mutual_info_classif(X, y, random_state=42)\n",
    "\n",
    "# find feature with highest MI\n",
    "n = relevance.argmax()\n",
    "\n",
    "# remove feature from relevance matrix\n",
    "relevance = np.delete(relevance, n)"
   ]
  },
  {
   "cell_type": "code",
   "execution_count": 5,
   "id": "e18157df-ac8c-4cc2-ac1d-201540d6a8f3",
   "metadata": {},
   "outputs": [],
   "source": [
    "# list of features\n",
    "\n",
    "remaining = X.columns.to_list()"
   ]
  },
  {
   "cell_type": "code",
   "execution_count": 6,
   "id": "b3b8de5e-a8cc-4495-a8b5-bf01d3a04f56",
   "metadata": {},
   "outputs": [
    {
     "data": {
      "text/plain": [
       "('worst perimeter',\n",
       " ['worst perimeter'],\n",
       " ['mean radius',\n",
       "  'mean texture',\n",
       "  'mean perimeter',\n",
       "  'mean area',\n",
       "  'mean smoothness',\n",
       "  'mean compactness',\n",
       "  'mean concavity',\n",
       "  'mean concave points',\n",
       "  'mean symmetry',\n",
       "  'mean fractal dimension',\n",
       "  'radius error',\n",
       "  'texture error',\n",
       "  'perimeter error',\n",
       "  'area error',\n",
       "  'smoothness error',\n",
       "  'compactness error',\n",
       "  'concavity error',\n",
       "  'concave points error',\n",
       "  'symmetry error',\n",
       "  'fractal dimension error',\n",
       "  'worst radius',\n",
       "  'worst texture',\n",
       "  'worst area',\n",
       "  'worst smoothness',\n",
       "  'worst compactness',\n",
       "  'worst concavity',\n",
       "  'worst concave points',\n",
       "  'worst symmetry',\n",
       "  'worst fractal dimension'])"
      ]
     },
     "execution_count": 6,
     "metadata": {},
     "output_type": "execute_result"
    }
   ],
   "source": [
    "# isolate selected feature\n",
    "feature = remaining[n]\n",
    "\n",
    "selected = [feature]\n",
    "\n",
    "# update list of features to examine\n",
    "remaining.remove(feature) \n",
    "\n",
    "feature, selected, remaining"
   ]
  },
  {
   "cell_type": "code",
   "execution_count": 7,
   "id": "b3c6d2cf-9910-4bae-a4d2-83d7dc2a8cde",
   "metadata": {},
   "outputs": [
    {
     "data": {
      "text/plain": [
       "array([1.55842558, 0.08125611, 1.69407809, 1.55349739, 0.03632087,\n",
       "       0.21633758, 0.48657564, 0.61850209, 0.08650444, 0.15175462,\n",
       "       0.35742416, 0.02455254, 0.39577613, 0.62505563, 0.14009995,\n",
       "       0.08766004, 0.2517269 , 0.14806218, 0.09368083, 0.01501102,\n",
       "       2.41036275, 0.0821414 , 2.28416992, 0.03892478, 0.27252143,\n",
       "       0.37667288, 0.5729741 , 0.08989302, 0.09451001])"
      ]
     },
     "execution_count": 7,
     "metadata": {},
     "output_type": "execute_result"
    }
   ],
   "source": [
    "# obtain reduncancy between remaining features and selected feature\n",
    "\n",
    "redundancy = (mutual_info_regression(X[remaining], X[feature], random_state=42))\n",
    "\n",
    "redundancy"
   ]
  },
  {
   "cell_type": "code",
   "execution_count": 8,
   "id": "8d959e3d-6bad-4817-a988-3f327311fd2a",
   "metadata": {},
   "outputs": [
    {
     "data": {
      "text/plain": [
       "array([-1.19614982,  0.01528343, -1.29171728, -1.19347404,  0.04341892,\n",
       "       -0.00289815, -0.11112877, -0.17969564, -0.02078375, -0.14586661,\n",
       "       -0.10812325, -0.02455254, -0.12016192, -0.28429658, -0.12444863,\n",
       "       -0.01426988, -0.13428718, -0.02264763, -0.07946504,  0.02422432,\n",
       "       -1.95913271,  0.03818992, -1.81985664,  0.05677229, -0.04731028,\n",
       "       -0.06141349, -0.13671928,  0.00554175, -0.0294687 ])"
      ]
     },
     "execution_count": 8,
     "metadata": {},
     "output_type": "execute_result"
    }
   ],
   "source": [
    "# obtain relation between relevance and redundancy\n",
    "\n",
    "mrmr = relevance - redundancy\n",
    "mrmr"
   ]
  },
  {
   "cell_type": "code",
   "execution_count": 9,
   "id": "689a5fe2-93d8-40b1-ab76-bef7128f895c",
   "metadata": {},
   "outputs": [
    {
     "data": {
      "text/plain": [
       "['worst perimeter',\n",
       " 'worst smoothness',\n",
       " 'worst texture',\n",
       " 'mean concave points',\n",
       " 'perimeter error',\n",
       " 'worst concavity',\n",
       " 'worst symmetry',\n",
       " 'area error',\n",
       " 'symmetry error',\n",
       " 'worst concave points']"
      ]
     },
     "execution_count": 9,
     "metadata": {},
     "output_type": "execute_result"
    }
   ],
   "source": [
    "# proceed the search inside a loop\n",
    "# the range is the number of features to select minus 2\n",
    "# so if we want to select 10 features, the range is 8\n",
    "\n",
    "for i in range(8):\n",
    "    \n",
    "    n = mrmr.argmax()\n",
    "    feature = remaining[n]\n",
    "    selected.append(feature)\n",
    "    remaining.remove(feature)\n",
    "\n",
    "    relevance = np.delete(relevance, n)\n",
    "    if i == 0:\n",
    "        redundancy = np.delete(redundancy, n)\n",
    "    else:\n",
    "        redundancy = np.delete(redundancy, n, axis=1)\n",
    "        \n",
    "    new_red = mutual_info_regression(X[remaining], X[feature], random_state=42)\n",
    "    redundancy = np.vstack([redundancy, new_red])\n",
    "\n",
    "    mrmr = relevance - redundancy.mean(axis=0)\n",
    "\n",
    "n = mrmr.argmax()\n",
    "feature = remaining[n]\n",
    "selected.append(feature)\n",
    "\n",
    "selected"
   ]
  },
  {
   "cell_type": "markdown",
   "id": "0be5d0e6-b5a0-4fde-a64f-396fefb79242",
   "metadata": {},
   "source": [
    "That's it! Now we have a list of 10 features that we selected using the MRMR framework with mutual information."
   ]
  },
  {
   "cell_type": "code",
   "execution_count": null,
   "id": "260b83a7",
   "metadata": {},
   "outputs": [],
   "source": []
  }
 ],
 "metadata": {
  "kernelspec": {
   "display_name": "courses",
   "language": "python",
   "name": "courses"
  },
  "language_info": {
   "codemirror_mode": {
    "name": "ipython",
    "version": 3
   },
   "file_extension": ".py",
   "mimetype": "text/x-python",
   "name": "python",
   "nbconvert_exporter": "python",
   "pygments_lexer": "ipython3",
   "version": "3.11.1"
  },
  "toc": {
   "base_numbering": 1,
   "nav_menu": {},
   "number_sections": true,
   "sideBar": true,
   "skip_h1_title": false,
   "title_cell": "Table of Contents",
   "title_sidebar": "Contents",
   "toc_cell": false,
   "toc_position": {
    "height": "calc(100% - 180px)",
    "left": "10px",
    "top": "150px",
    "width": "212.133px"
   },
   "toc_section_display": true,
   "toc_window_display": true
  }
 },
 "nbformat": 4,
 "nbformat_minor": 5
}
