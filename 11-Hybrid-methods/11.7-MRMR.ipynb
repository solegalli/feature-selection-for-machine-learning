{
 "cells": [
  {
   "cell_type": "markdown",
   "id": "8e71bbde-4d42-482c-b7f9-e1d0bd9b976e",
   "metadata": {},
   "source": [
    "# MRMR\n",
    "\n",
    "In this notebook, we'll select features based on the Maximum Relevance Minimum Redundancy framework.\n",
    "\n",
    "We'll implement the search manually to understand how the algorithm works."
   ]
  },
  {
   "cell_type": "code",
   "execution_count": 1,
   "id": "1ba08037",
   "metadata": {},
   "outputs": [],
   "source": [
    "import numpy as np\n",
    "import pandas as pd\n",
    "\n",
    "import matplotlib.pyplot as plt\n",
    "\n",
    "from sklearn.model_selection import train_test_split\n",
    "\n",
    "# to obtain the mutual information values\n",
    "from sklearn.feature_selection import (\n",
    "    mutual_info_classif, \n",
    "    mutual_info_regression,\n",
    "    f_classif, \n",
    "    f_regression,\n",
    ")\n",
    "\n",
    "from sklearn.ensemble import RandomForestClassifier"
   ]
  },
  {
   "cell_type": "code",
   "execution_count": 2,
   "id": "74686661",
   "metadata": {},
   "outputs": [
    {
     "data": {
      "text/html": [
       "<div>\n",
       "<style scoped>\n",
       "    .dataframe tbody tr th:only-of-type {\n",
       "        vertical-align: middle;\n",
       "    }\n",
       "\n",
       "    .dataframe tbody tr th {\n",
       "        vertical-align: top;\n",
       "    }\n",
       "\n",
       "    .dataframe thead th {\n",
       "        text-align: right;\n",
       "    }\n",
       "</style>\n",
       "<table border=\"1\" class=\"dataframe\">\n",
       "  <thead>\n",
       "    <tr style=\"text-align: right;\">\n",
       "      <th></th>\n",
       "      <th>var_1</th>\n",
       "      <th>var_2</th>\n",
       "      <th>var_3</th>\n",
       "      <th>var_4</th>\n",
       "      <th>var_5</th>\n",
       "      <th>var_6</th>\n",
       "      <th>var_7</th>\n",
       "      <th>var_8</th>\n",
       "      <th>var_9</th>\n",
       "      <th>var_10</th>\n",
       "      <th>...</th>\n",
       "      <th>var_100</th>\n",
       "      <th>var_101</th>\n",
       "      <th>var_102</th>\n",
       "      <th>var_103</th>\n",
       "      <th>var_104</th>\n",
       "      <th>var_105</th>\n",
       "      <th>var_106</th>\n",
       "      <th>var_107</th>\n",
       "      <th>var_108</th>\n",
       "      <th>var_109</th>\n",
       "    </tr>\n",
       "  </thead>\n",
       "  <tbody>\n",
       "    <tr>\n",
       "      <th>0</th>\n",
       "      <td>4.532710</td>\n",
       "      <td>3.280834</td>\n",
       "      <td>17.982476</td>\n",
       "      <td>4.404259</td>\n",
       "      <td>2.349910</td>\n",
       "      <td>0.603264</td>\n",
       "      <td>2.784655</td>\n",
       "      <td>0.323146</td>\n",
       "      <td>12.009691</td>\n",
       "      <td>0.139346</td>\n",
       "      <td>...</td>\n",
       "      <td>2.079066</td>\n",
       "      <td>6.748819</td>\n",
       "      <td>2.941445</td>\n",
       "      <td>18.360496</td>\n",
       "      <td>17.726613</td>\n",
       "      <td>7.774031</td>\n",
       "      <td>1.473441</td>\n",
       "      <td>1.973832</td>\n",
       "      <td>0.976806</td>\n",
       "      <td>2.541417</td>\n",
       "    </tr>\n",
       "    <tr>\n",
       "      <th>1</th>\n",
       "      <td>5.821374</td>\n",
       "      <td>12.098722</td>\n",
       "      <td>13.309151</td>\n",
       "      <td>4.125599</td>\n",
       "      <td>1.045386</td>\n",
       "      <td>1.832035</td>\n",
       "      <td>1.833494</td>\n",
       "      <td>0.709090</td>\n",
       "      <td>8.652883</td>\n",
       "      <td>0.102757</td>\n",
       "      <td>...</td>\n",
       "      <td>2.479789</td>\n",
       "      <td>7.795290</td>\n",
       "      <td>3.557890</td>\n",
       "      <td>17.383378</td>\n",
       "      <td>15.193423</td>\n",
       "      <td>8.263673</td>\n",
       "      <td>1.878108</td>\n",
       "      <td>0.567939</td>\n",
       "      <td>1.018818</td>\n",
       "      <td>1.416433</td>\n",
       "    </tr>\n",
       "    <tr>\n",
       "      <th>2</th>\n",
       "      <td>1.938776</td>\n",
       "      <td>7.952752</td>\n",
       "      <td>0.972671</td>\n",
       "      <td>3.459267</td>\n",
       "      <td>1.935782</td>\n",
       "      <td>0.621463</td>\n",
       "      <td>2.338139</td>\n",
       "      <td>0.344948</td>\n",
       "      <td>9.937850</td>\n",
       "      <td>11.691283</td>\n",
       "      <td>...</td>\n",
       "      <td>1.861487</td>\n",
       "      <td>6.130886</td>\n",
       "      <td>3.401064</td>\n",
       "      <td>15.850471</td>\n",
       "      <td>14.620599</td>\n",
       "      <td>6.849776</td>\n",
       "      <td>1.098210</td>\n",
       "      <td>1.959183</td>\n",
       "      <td>1.575493</td>\n",
       "      <td>1.857893</td>\n",
       "    </tr>\n",
       "    <tr>\n",
       "      <th>3</th>\n",
       "      <td>6.020690</td>\n",
       "      <td>9.900544</td>\n",
       "      <td>17.869637</td>\n",
       "      <td>4.366715</td>\n",
       "      <td>1.973693</td>\n",
       "      <td>2.026012</td>\n",
       "      <td>2.853025</td>\n",
       "      <td>0.674847</td>\n",
       "      <td>11.816859</td>\n",
       "      <td>0.011151</td>\n",
       "      <td>...</td>\n",
       "      <td>1.340944</td>\n",
       "      <td>7.240058</td>\n",
       "      <td>2.417235</td>\n",
       "      <td>15.194609</td>\n",
       "      <td>13.553772</td>\n",
       "      <td>7.229971</td>\n",
       "      <td>0.835158</td>\n",
       "      <td>2.234482</td>\n",
       "      <td>0.946170</td>\n",
       "      <td>2.700606</td>\n",
       "    </tr>\n",
       "    <tr>\n",
       "      <th>4</th>\n",
       "      <td>3.909506</td>\n",
       "      <td>10.576516</td>\n",
       "      <td>0.934191</td>\n",
       "      <td>3.419572</td>\n",
       "      <td>1.871438</td>\n",
       "      <td>3.340811</td>\n",
       "      <td>1.868282</td>\n",
       "      <td>0.439865</td>\n",
       "      <td>13.585620</td>\n",
       "      <td>1.153366</td>\n",
       "      <td>...</td>\n",
       "      <td>2.738095</td>\n",
       "      <td>6.565509</td>\n",
       "      <td>4.341414</td>\n",
       "      <td>15.893832</td>\n",
       "      <td>11.929787</td>\n",
       "      <td>6.954033</td>\n",
       "      <td>1.853364</td>\n",
       "      <td>0.511027</td>\n",
       "      <td>2.599562</td>\n",
       "      <td>0.811364</td>\n",
       "    </tr>\n",
       "  </tbody>\n",
       "</table>\n",
       "<p>5 rows × 109 columns</p>\n",
       "</div>"
      ],
      "text/plain": [
       "      var_1      var_2      var_3     var_4     var_5     var_6     var_7  \\\n",
       "0  4.532710   3.280834  17.982476  4.404259  2.349910  0.603264  2.784655   \n",
       "1  5.821374  12.098722  13.309151  4.125599  1.045386  1.832035  1.833494   \n",
       "2  1.938776   7.952752   0.972671  3.459267  1.935782  0.621463  2.338139   \n",
       "3  6.020690   9.900544  17.869637  4.366715  1.973693  2.026012  2.853025   \n",
       "4  3.909506  10.576516   0.934191  3.419572  1.871438  3.340811  1.868282   \n",
       "\n",
       "      var_8      var_9     var_10  ...   var_100   var_101   var_102  \\\n",
       "0  0.323146  12.009691   0.139346  ...  2.079066  6.748819  2.941445   \n",
       "1  0.709090   8.652883   0.102757  ...  2.479789  7.795290  3.557890   \n",
       "2  0.344948   9.937850  11.691283  ...  1.861487  6.130886  3.401064   \n",
       "3  0.674847  11.816859   0.011151  ...  1.340944  7.240058  2.417235   \n",
       "4  0.439865  13.585620   1.153366  ...  2.738095  6.565509  4.341414   \n",
       "\n",
       "     var_103    var_104   var_105   var_106   var_107   var_108   var_109  \n",
       "0  18.360496  17.726613  7.774031  1.473441  1.973832  0.976806  2.541417  \n",
       "1  17.383378  15.193423  8.263673  1.878108  0.567939  1.018818  1.416433  \n",
       "2  15.850471  14.620599  6.849776  1.098210  1.959183  1.575493  1.857893  \n",
       "3  15.194609  13.553772  7.229971  0.835158  2.234482  0.946170  2.700606  \n",
       "4  15.893832  11.929787  6.954033  1.853364  0.511027  2.599562  0.811364  \n",
       "\n",
       "[5 rows x 109 columns]"
      ]
     },
     "execution_count": 2,
     "metadata": {},
     "output_type": "execute_result"
    }
   ],
   "source": [
    "data = pd.read_csv('../dataset_2.csv')\n",
    "\n",
    "data.head()"
   ]
  },
  {
   "cell_type": "code",
   "execution_count": 3,
   "id": "84052300",
   "metadata": {},
   "outputs": [
    {
     "data": {
      "text/plain": [
       "((35000, 7), (15000, 7))"
      ]
     },
     "execution_count": 3,
     "metadata": {},
     "output_type": "execute_result"
    }
   ],
   "source": [
    "# separate train and test sets\n",
    "X_train, X_test, y_train, y_test = train_test_split(\n",
    "    data[[\"var_1\", \"var_2\", \"var_3\", \"var_4\", \"var_5\", \"var_6\", \"var_7\"]],\n",
    "    data['target'],\n",
    "    test_size=0.3,\n",
    "    random_state=0)\n",
    "\n",
    "X_train.shape, X_test.shape"
   ]
  },
  {
   "cell_type": "code",
   "execution_count": 4,
   "id": "34c6cfeb",
   "metadata": {},
   "outputs": [
    {
     "data": {
      "text/plain": [
       "array([1, 0])"
      ]
     },
     "execution_count": 4,
     "metadata": {},
     "output_type": "execute_result"
    }
   ],
   "source": [
    "y_train.unique()"
   ]
  },
  {
   "cell_type": "markdown",
   "id": "541d06c4",
   "metadata": {},
   "source": [
    "## mutual information\n",
    "\n",
    "We'll start by using the mutual information to determine both relevance and redundancy."
   ]
  },
  {
   "cell_type": "code",
   "execution_count": 5,
   "id": "b1ce281d",
   "metadata": {},
   "outputs": [
    {
     "data": {
      "text/plain": [
       "array([0.        , 0.00375371, 0.        , 0.00116387, 0.00053645,\n",
       "       0.00498133, 0.0048928 ])"
      ]
     },
     "execution_count": 5,
     "metadata": {},
     "output_type": "execute_result"
    }
   ],
   "source": [
    "# the target is categorical, so we use classification\n",
    "\n",
    "relevance = mutual_info_classif(X_train, y_train, random_state=42)\n",
    "\n",
    "relevance "
   ]
  },
  {
   "cell_type": "code",
   "execution_count": 6,
   "id": "15557f50-fe30-45c3-9a05-94fd81c1a60f",
   "metadata": {},
   "outputs": [
    {
     "data": {
      "text/plain": [
       "np.int64(5)"
      ]
     },
     "execution_count": 6,
     "metadata": {},
     "output_type": "execute_result"
    }
   ],
   "source": [
    "# now we find the position of the featute whose MI\n",
    "# with the rarget is the highest\n",
    "\n",
    "n = relevance.argmax()\n",
    "n"
   ]
  },
  {
   "cell_type": "code",
   "execution_count": 7,
   "id": "e18157df-ac8c-4cc2-ac1d-201540d6a8f3",
   "metadata": {},
   "outputs": [
    {
     "data": {
      "text/plain": [
       "['var_1', 'var_2', 'var_3', 'var_4', 'var_5', 'var_6', 'var_7']"
      ]
     },
     "execution_count": 7,
     "metadata": {},
     "output_type": "execute_result"
    }
   ],
   "source": [
    "# capture all featurs in a list\n",
    "\n",
    "remaining = X_train.columns.to_list()\n",
    "\n",
    "remaining"
   ]
  },
  {
   "cell_type": "code",
   "execution_count": 8,
   "id": "b3b8de5e-a8cc-4495-a8b5-bf01d3a04f56",
   "metadata": {},
   "outputs": [
    {
     "data": {
      "text/plain": [
       "('var_6', ['var_6'], ['var_1', 'var_2', 'var_3', 'var_4', 'var_5', 'var_7'])"
      ]
     },
     "execution_count": 8,
     "metadata": {},
     "output_type": "execute_result"
    }
   ],
   "source": [
    "# isolate the feature with highest MI and\n",
    "# redefine feature lists\n",
    "\n",
    "feature = remaining[n]\n",
    "\n",
    "selected = [feature]\n",
    "\n",
    "remaining.remove(feature) \n",
    "\n",
    "feature, selected, remaining"
   ]
  },
  {
   "cell_type": "code",
   "execution_count": 9,
   "id": "d6ec7c5d-8260-4ebb-83a8-c8e38e3c376c",
   "metadata": {},
   "outputs": [
    {
     "data": {
      "text/plain": [
       "array([0.        , 0.00375371, 0.        , 0.00116387, 0.00053645,\n",
       "       0.0048928 ])"
      ]
     },
     "execution_count": 9,
     "metadata": {},
     "output_type": "execute_result"
    }
   ],
   "source": [
    "# remove the selected feature from the relevance matrix\n",
    "# we need this matrix for the coming steps.\n",
    "\n",
    "relevance = np.delete(relevance, n)\n",
    "\n",
    "relevance"
   ]
  },
  {
   "cell_type": "code",
   "execution_count": 10,
   "id": "7c1cb63e-1cd7-4fd3-8810-745a70c08028",
   "metadata": {},
   "outputs": [],
   "source": [
    "# we'll make a copy so we have a shorter name as variable\n",
    "\n",
    "X = X_train.copy()"
   ]
  },
  {
   "cell_type": "code",
   "execution_count": 28,
   "id": "b3c6d2cf-9910-4bae-a4d2-83d7dc2a8cde",
   "metadata": {},
   "outputs": [
    {
     "data": {
      "text/plain": [
       "array([0.01480108, 0.02684905, 0.03007928, 0.12978507, 0.08237336,\n",
       "       0.02644202])"
      ]
     },
     "execution_count": 28,
     "metadata": {},
     "output_type": "execute_result"
    }
   ],
   "source": [
    "# now we determine the mutual information between all remaining features\n",
    "# and the selected feature\n",
    "\n",
    "redundancy = mutual_info_regression(X[remaining], X[feature], random_state=42)\n",
    "\n",
    "redundancy"
   ]
  },
  {
   "cell_type": "code",
   "execution_count": 12,
   "id": "8d959e3d-6bad-4817-a988-3f327311fd2a",
   "metadata": {},
   "outputs": [
    {
     "data": {
      "text/plain": [
       "array([0.        , 0.0455711 , 0.        , 0.02014171, 0.01180523,\n",
       "       0.04777016])"
      ]
     },
     "execution_count": 12,
     "metadata": {},
     "output_type": "execute_result"
    }
   ],
   "source": [
    "# in this case, we'll use the ratio between relevance and redundancy\n",
    "# but you could use the difference as well.\n",
    "\n",
    "mrmr = relevance / redundancy\n",
    "mrmr"
   ]
  },
  {
   "cell_type": "code",
   "execution_count": 13,
   "id": "8d5cddf8-4523-43b4-9899-682974f202ab",
   "metadata": {},
   "outputs": [
    {
     "data": {
      "text/plain": [
       "np.int64(5)"
      ]
     },
     "execution_count": 13,
     "metadata": {},
     "output_type": "execute_result"
    }
   ],
   "source": [
    "# we find the feature with highest relevance to redundance ratio\n",
    "\n",
    "n = mrmr.argmax()\n",
    "n"
   ]
  },
  {
   "cell_type": "code",
   "execution_count": 14,
   "id": "689a5fe2-93d8-40b1-ab76-bef7128f895c",
   "metadata": {},
   "outputs": [
    {
     "data": {
      "text/plain": [
       "('var_7', ['var_6', 'var_7'], ['var_1', 'var_2', 'var_3', 'var_4', 'var_5'])"
      ]
     },
     "execution_count": 14,
     "metadata": {},
     "output_type": "execute_result"
    }
   ],
   "source": [
    "# the newly selected feature\n",
    "feature = remaining[n]\n",
    "\n",
    "# the list with the features selected so far (now with 2 features)\n",
    "selected.append(feature)\n",
    "\n",
    "# the remaining features to examine\n",
    "remaining.remove(feature)\n",
    "\n",
    "feature, selected, remaining"
   ]
  },
  {
   "cell_type": "code",
   "execution_count": 15,
   "id": "7af9f0d9-e274-45ca-a0a4-da471db5f7e5",
   "metadata": {},
   "outputs": [
    {
     "data": {
      "text/plain": [
       "array([0.        , 0.00375371, 0.        , 0.00116387, 0.00053645])"
      ]
     },
     "execution_count": 15,
     "metadata": {},
     "output_type": "execute_result"
    }
   ],
   "source": [
    "# remove selected feature from relevance matrix\n",
    "relevance = np.delete(relevance, n)\n",
    "\n",
    "relevance"
   ]
  },
  {
   "cell_type": "code",
   "execution_count": 16,
   "id": "fb657d24-7416-47f9-9c31-d6333849b410",
   "metadata": {},
   "outputs": [
    {
     "data": {
      "text/plain": [
       "array([0.00660673, 0.08237041, 0.07526734, 0.05778429, 0.04544165])"
      ]
     },
     "execution_count": 16,
     "metadata": {},
     "output_type": "execute_result"
    }
   ],
   "source": [
    "# remove selected feature from redundanct matrix\n",
    "\n",
    "redundancy = np.delete(redundancy, n)\n",
    "\n",
    "redundancy"
   ]
  },
  {
   "cell_type": "code",
   "execution_count": 17,
   "id": "4b06c49d-4325-42c5-b3b8-0e3ab39dce7a",
   "metadata": {},
   "outputs": [
    {
     "data": {
      "text/plain": [
       "array([[0.00660673, 0.08237041, 0.07526734, 0.05778429, 0.04544165],\n",
       "       [0.00285312, 0.02644704, 0.05296772, 0.2988227 , 0.00385052]])"
      ]
     },
     "execution_count": 17,
     "metadata": {},
     "output_type": "execute_result"
    }
   ],
   "source": [
    "# estimate the mutual information of the remaining features to \n",
    "# the feature that was selected in the second round\n",
    "new_red = mutual_info_regression(X[remaining], X[feature], random_state=42)\n",
    "\n",
    "# add the new values of MI to the redundancy matrix\n",
    "redundancy = np.vstack([redundancy, new_red])\n",
    "\n",
    "redundancy"
   ]
  },
  {
   "cell_type": "code",
   "execution_count": 18,
   "id": "c52d6e50-4453-4376-84a1-a0dcde94453a",
   "metadata": {},
   "outputs": [
    {
     "data": {
      "text/plain": [
       "array([0.00472992, 0.05440873, 0.06411753, 0.1783035 , 0.02464609])"
      ]
     },
     "execution_count": 18,
     "metadata": {},
     "output_type": "execute_result"
    }
   ],
   "source": [
    "# now we take the mean redundancy between the remaining features and\n",
    "# those selected in previous rounds\n",
    "\n",
    "redundancy.mean(axis=0)"
   ]
  },
  {
   "cell_type": "code",
   "execution_count": 19,
   "id": "0f6dd278-9626-43f2-ab8c-e70aecd4a576",
   "metadata": {},
   "outputs": [
    {
     "data": {
      "text/plain": [
       "array([0.        , 0.06899096, 0.        , 0.00652749, 0.02176609])"
      ]
     },
     "execution_count": 19,
     "metadata": {},
     "output_type": "execute_result"
    }
   ],
   "source": [
    "# we obtain the ratio between the relevance and redundancy\n",
    "\n",
    "mrmr = relevance / redundancy.mean(axis=0)\n",
    "mrmr"
   ]
  },
  {
   "cell_type": "code",
   "execution_count": 20,
   "id": "1fb84be0-b46a-4320-964f-c32992b23575",
   "metadata": {},
   "outputs": [
    {
     "data": {
      "text/plain": [
       "('var_2', ['var_6', 'var_7', 'var_2'], ['var_1', 'var_3', 'var_4', 'var_5'])"
      ]
     },
     "execution_count": 20,
     "metadata": {},
     "output_type": "execute_result"
    }
   ],
   "source": [
    "# and we repeat the procedure:\n",
    "# select featute with highest ratio\n",
    "# update all feature lists\n",
    "n = mrmr.argmax()\n",
    "\n",
    "feature = remaining[n]\n",
    "\n",
    "selected.append(feature)\n",
    "\n",
    "remaining.remove(feature)\n",
    "\n",
    "feature, selected, remaining"
   ]
  },
  {
   "cell_type": "code",
   "execution_count": 21,
   "id": "9a480c2f-26b0-4d08-8d76-14d22360568c",
   "metadata": {},
   "outputs": [],
   "source": [
    "# update relevance and redundance matrix\n",
    "\n",
    "relevance = np.delete(relevance, n)\n",
    "redundancy = np.delete(redundancy, n, axis=1)"
   ]
  },
  {
   "cell_type": "code",
   "execution_count": 22,
   "id": "d1095aba-1774-4c5f-8d4f-9f3546063654",
   "metadata": {},
   "outputs": [],
   "source": [
    "# estimate the mutual information of the remaining features to \n",
    "# the feature that was selected in the third round\n",
    "\n",
    "new_red = mutual_info_regression(X[remaining], X[feature], random_state=42)\n",
    "\n",
    "# add the new values of MI to the redundancy matrix\n",
    "redundancy = np.vstack([redundancy, new_red])"
   ]
  },
  {
   "cell_type": "code",
   "execution_count": 23,
   "id": "2d201d59-cb08-4dc7-af83-8b6a7399aba0",
   "metadata": {},
   "outputs": [
    {
     "data": {
      "text/plain": [
       "array([0.        , 0.        , 0.00902945, 0.00898697])"
      ]
     },
     "execution_count": 23,
     "metadata": {},
     "output_type": "execute_result"
    }
   ],
   "source": [
    "# we obtain the ratio between the relevance and redundancy\n",
    "\n",
    "mrmr = relevance / redundancy.mean(axis=0)\n",
    "mrmr"
   ]
  },
  {
   "cell_type": "markdown",
   "id": "c4738671-3982-46fb-b616-b4c478b42af3",
   "metadata": {},
   "source": [
    "And so on...\n",
    "\n",
    "We repeat this procedure untill we obtain the desired number of features."
   ]
  },
  {
   "cell_type": "markdown",
   "id": "af0c8139",
   "metadata": {},
   "source": [
    "## anova\n",
    "\n",
    "If you want to obtain the relevance and redundancy using anova and correlation instead of the mutual information, you need to replace the redundance and relevance functions as follows:"
   ]
  },
  {
   "cell_type": "code",
   "execution_count": 24,
   "id": "d49d8b26",
   "metadata": {},
   "outputs": [
    {
     "data": {
      "text/plain": [
       "array([ 0.29207399, 36.77380385, 13.04118528, 11.75743595, 14.15631812,\n",
       "       30.63816717, 20.22340598])"
      ]
     },
     "execution_count": 24,
     "metadata": {},
     "output_type": "execute_result"
    }
   ],
   "source": [
    "relevance = f_classif(X_train, y_train)[0]\n",
    "\n",
    "relevance"
   ]
  },
  {
   "cell_type": "code",
   "execution_count": 25,
   "id": "92721c21-f106-449e-a3b2-d4583b454ca0",
   "metadata": {},
   "outputs": [
    {
     "data": {
      "text/plain": [
       "('var_2', ['var_2'], ['var_1', 'var_3', 'var_4', 'var_5', 'var_6', 'var_7'])"
      ]
     },
     "execution_count": 25,
     "metadata": {},
     "output_type": "execute_result"
    }
   ],
   "source": [
    "remaining = X_train.columns.to_list()\n",
    "\n",
    "feature = remaining[n]\n",
    "\n",
    "selected = [feature]\n",
    "\n",
    "remaining.remove(feature) \n",
    "\n",
    "feature, selected, remaining"
   ]
  },
  {
   "cell_type": "code",
   "execution_count": 26,
   "id": "96d5a125",
   "metadata": {},
   "outputs": [
    {
     "data": {
      "text/plain": [
       "var_1    0.033981\n",
       "var_3    0.159411\n",
       "var_4    0.194955\n",
       "var_5    0.354885\n",
       "var_6    0.342255\n",
       "var_7    0.143461\n",
       "dtype: float64"
      ]
     },
     "execution_count": 26,
     "metadata": {},
     "output_type": "execute_result"
    }
   ],
   "source": [
    "redundance = np.abs(X[remaining].corrwith(X[feature]))\n",
    "\n",
    "redundance"
   ]
  },
  {
   "cell_type": "markdown",
   "id": "e07ba042",
   "metadata": {},
   "source": [
    "## random forest\n",
    "\n",
    "To obtain the relevance through random forests, we train a model and use the feature importance."
   ]
  },
  {
   "cell_type": "code",
   "execution_count": 27,
   "id": "57eda2bb",
   "metadata": {},
   "outputs": [
    {
     "data": {
      "text/plain": [
       "array([0.13811395, 0.14402894, 0.13938271, 0.14691492, 0.14584093,\n",
       "       0.14148957, 0.14422899])"
      ]
     },
     "execution_count": 27,
     "metadata": {},
     "output_type": "execute_result"
    }
   ],
   "source": [
    "relevance = RandomForestClassifier(n_estimators=5).fit(X_train, y_train).feature_importances_\n",
    "\n",
    "relevance"
   ]
  },
  {
   "cell_type": "markdown",
   "id": "03bf1901-251e-4576-a0cb-894c657e7580",
   "metadata": {},
   "source": [
    "The rest of the procedure is identical."
   ]
  },
  {
   "cell_type": "code",
   "execution_count": null,
   "id": "260b83a7",
   "metadata": {},
   "outputs": [],
   "source": []
  }
 ],
 "metadata": {
  "kernelspec": {
   "display_name": "courses",
   "language": "python",
   "name": "courses"
  },
  "language_info": {
   "codemirror_mode": {
    "name": "ipython",
    "version": 3
   },
   "file_extension": ".py",
   "mimetype": "text/x-python",
   "name": "python",
   "nbconvert_exporter": "python",
   "pygments_lexer": "ipython3",
   "version": "3.11.1"
  },
  "toc": {
   "base_numbering": 1,
   "nav_menu": {},
   "number_sections": true,
   "sideBar": true,
   "skip_h1_title": false,
   "title_cell": "Table of Contents",
   "title_sidebar": "Contents",
   "toc_cell": false,
   "toc_position": {
    "height": "calc(100% - 180px)",
    "left": "10px",
    "top": "150px",
    "width": "212.133px"
   },
   "toc_section_display": true,
   "toc_window_display": true
  }
 },
 "nbformat": 4,
 "nbformat_minor": 5
}
