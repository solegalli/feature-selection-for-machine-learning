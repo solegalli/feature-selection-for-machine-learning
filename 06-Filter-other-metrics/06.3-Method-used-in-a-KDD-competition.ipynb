{
 "cells": [
  {
   "cell_type": "markdown",
   "metadata": {},
   "source": [
    "## Method used in a KDD 2009 competition\n",
    "\n",
    "We will cover the feature selection approach undertaken by data scientists at the University of Melbourne in the [KDD 2009](http://www.kdd.org/kdd-cup/view/kdd-cup-2009) data science competition. The task consisted in predicting churn based on a dataset with a huge number of features.\n",
    "\n",
    "The authors describe this procedure as an aggressive non-parametric feature selection procedure that is based in contemplating the relationship between the feature and the target. Therefore, this method should be classified as a filter method.\n",
    "\n",
    "**The procedure consists in the following steps**:\n",
    "\n",
    "For each categorical variable:\n",
    "\n",
    "    1) Separate into train and test\n",
    "\n",
    "    2) Determine the mean value of the target within each label of the categorical variable using the train set\n",
    "\n",
    "    3) Use that mean target value per label as the prediction (using the test set) and calculate the roc-auc.\n",
    "\n",
    "For each numerical variable:\n",
    "\n",
    "    1) Separate into train and test\n",
    "    \n",
    "    2) Divide the variable into 100 quantiles\n",
    "\n",
    "    3) Calculate the mean target within each quantile using the training set \n",
    "\n",
    "    4) Use that mean target value / bin as the prediction (using the test set) and calculate the roc-auc\n",
    "\n",
    "\n",
    "The authors quote the following advantages of the method:\n",
    "\n",
    "- Speed: computing mean and quantiles is direct and efficient\n",
    "- Stability respect to scale: extreme values for continuous variables do not skew the predictions\n",
    "- Comparable between categorical and numerical variables\n",
    "- Accommodation of non-linearities\n",
    "\n",
    "See my notes at the end of the notebook for a discussion on the method.\n",
    "\n",
    "**Important**\n",
    "The authors here use the roc-auc, but in principle, we could use any metric, including those valid for regression.\n",
    "\n",
    "**Reference**:\n",
    "[Predicting customer behaviour: The University of Melbourne's KDD Cup Report. Miller et al. JMLR Workshop and Conference Proceedings 7:45-55](http://www.mtome.com/Publications/CiML/CiML-v3-book.pdf)"
   ]
  },
  {
   "cell_type": "markdown",
   "metadata": {},
   "source": [
    "## How to do it?"
   ]
  },
  {
   "cell_type": "code",
   "execution_count": 1,
   "metadata": {},
   "outputs": [],
   "source": [
    "import pandas as pd\n",
    "import numpy as np\n",
    "\n",
    "from sklearn.model_selection import train_test_split\n",
    "\n",
    "from sklearn.metrics import roc_auc_score"
   ]
  },
  {
   "cell_type": "code",
   "execution_count": 2,
   "metadata": {},
   "outputs": [
    {
     "data": {
      "text/plain": [
       "(1306, 9)"
      ]
     },
     "execution_count": 2,
     "metadata": {},
     "output_type": "execute_result"
    }
   ],
   "source": [
    "# load the titanic dataset\n",
    "data = pd.read_csv('../titanic.csv')\n",
    "data.shape"
   ]
  },
  {
   "cell_type": "code",
   "execution_count": 3,
   "metadata": {},
   "outputs": [
    {
     "data": {
      "text/html": [
       "<div>\n",
       "<style scoped>\n",
       "    .dataframe tbody tr th:only-of-type {\n",
       "        vertical-align: middle;\n",
       "    }\n",
       "\n",
       "    .dataframe tbody tr th {\n",
       "        vertical-align: top;\n",
       "    }\n",
       "\n",
       "    .dataframe thead th {\n",
       "        text-align: right;\n",
       "    }\n",
       "</style>\n",
       "<table border=\"1\" class=\"dataframe\">\n",
       "  <thead>\n",
       "    <tr style=\"text-align: right;\">\n",
       "      <th></th>\n",
       "      <th>pclass</th>\n",
       "      <th>survived</th>\n",
       "      <th>sex</th>\n",
       "      <th>age</th>\n",
       "      <th>sibsp</th>\n",
       "      <th>parch</th>\n",
       "      <th>fare</th>\n",
       "      <th>cabin</th>\n",
       "      <th>embarked</th>\n",
       "    </tr>\n",
       "  </thead>\n",
       "  <tbody>\n",
       "    <tr>\n",
       "      <th>0</th>\n",
       "      <td>1</td>\n",
       "      <td>1</td>\n",
       "      <td>female</td>\n",
       "      <td>29.0000</td>\n",
       "      <td>0</td>\n",
       "      <td>0</td>\n",
       "      <td>211.3375</td>\n",
       "      <td>B5</td>\n",
       "      <td>S</td>\n",
       "    </tr>\n",
       "    <tr>\n",
       "      <th>1</th>\n",
       "      <td>1</td>\n",
       "      <td>1</td>\n",
       "      <td>male</td>\n",
       "      <td>0.9167</td>\n",
       "      <td>1</td>\n",
       "      <td>2</td>\n",
       "      <td>151.5500</td>\n",
       "      <td>C22</td>\n",
       "      <td>S</td>\n",
       "    </tr>\n",
       "    <tr>\n",
       "      <th>2</th>\n",
       "      <td>1</td>\n",
       "      <td>0</td>\n",
       "      <td>female</td>\n",
       "      <td>2.0000</td>\n",
       "      <td>1</td>\n",
       "      <td>2</td>\n",
       "      <td>151.5500</td>\n",
       "      <td>C22</td>\n",
       "      <td>S</td>\n",
       "    </tr>\n",
       "    <tr>\n",
       "      <th>3</th>\n",
       "      <td>1</td>\n",
       "      <td>0</td>\n",
       "      <td>male</td>\n",
       "      <td>30.0000</td>\n",
       "      <td>1</td>\n",
       "      <td>2</td>\n",
       "      <td>151.5500</td>\n",
       "      <td>C22</td>\n",
       "      <td>S</td>\n",
       "    </tr>\n",
       "    <tr>\n",
       "      <th>4</th>\n",
       "      <td>1</td>\n",
       "      <td>0</td>\n",
       "      <td>female</td>\n",
       "      <td>25.0000</td>\n",
       "      <td>1</td>\n",
       "      <td>2</td>\n",
       "      <td>151.5500</td>\n",
       "      <td>C22</td>\n",
       "      <td>S</td>\n",
       "    </tr>\n",
       "  </tbody>\n",
       "</table>\n",
       "</div>"
      ],
      "text/plain": [
       "   pclass  survived     sex      age  sibsp  parch      fare cabin embarked\n",
       "0       1         1  female  29.0000      0      0  211.3375    B5        S\n",
       "1       1         1    male   0.9167      1      2  151.5500   C22        S\n",
       "2       1         0  female   2.0000      1      2  151.5500   C22        S\n",
       "3       1         0    male  30.0000      1      2  151.5500   C22        S\n",
       "4       1         0  female  25.0000      1      2  151.5500   C22        S"
      ]
     },
     "execution_count": 3,
     "metadata": {},
     "output_type": "execute_result"
    }
   ],
   "source": [
    "data.head()"
   ]
  },
  {
   "cell_type": "code",
   "execution_count": 4,
   "metadata": {},
   "outputs": [
    {
     "data": {
      "text/plain": [
       "array(['B', 'C', 'E', 'D', 'A', 'N', 'T', 'F', 'G'], dtype=object)"
      ]
     },
     "execution_count": 4,
     "metadata": {},
     "output_type": "execute_result"
    }
   ],
   "source": [
    "# Variable preprocessing:\n",
    "\n",
    "# then I will narrow down the different cabins by selecting only the\n",
    "# first letter, which represents the deck in which the cabin was located\n",
    "\n",
    "# captures first letter of string (the letter of the cabin)\n",
    "data['cabin'] = data['cabin'].str[0]\n",
    "data['cabin'].unique()"
   ]
  },
  {
   "cell_type": "markdown",
   "metadata": {},
   "source": [
    "### Feature selection on categorical variables\n",
    "\n",
    "First, I will demonstrate the feature selection procedure over categorical variables. The Titanic dataset contains 4 categorical variables, which are Sex, Pclass, Cabin and Embarked."
   ]
  },
  {
   "cell_type": "markdown",
   "metadata": {},
   "source": [
    "**Important**\n",
    "\n",
    "In all feature selection procedures, it is good practice to select the features by examining only the training set. And this is to avoid overfit."
   ]
  },
  {
   "cell_type": "code",
   "execution_count": 5,
   "metadata": {},
   "outputs": [
    {
     "data": {
      "text/plain": [
       "((914, 5), (392, 5))"
      ]
     },
     "execution_count": 5,
     "metadata": {},
     "output_type": "execute_result"
    }
   ],
   "source": [
    "# separate train and test sets\n",
    "\n",
    "# I will only use the categorical variables and the target\n",
    "\n",
    "X_train, X_test, y_train, y_test = train_test_split(\n",
    "    data[['pclass', 'sex', 'embarked', 'cabin', 'survived']],\n",
    "    data['survived'],\n",
    "    test_size=0.3,\n",
    "    random_state=0)\n",
    "\n",
    "X_train.shape, X_test.shape"
   ]
  },
  {
   "cell_type": "markdown",
   "metadata": {},
   "source": [
    "### Replace categories by target mean"
   ]
  },
  {
   "cell_type": "code",
   "execution_count": 6,
   "metadata": {},
   "outputs": [],
   "source": [
    "# function that determines the target mean per category\n",
    "\n",
    "def mean_encoding(df_train, df_test, categorical_vars):\n",
    "    \n",
    "    # temporary copy of the original dataframes\n",
    "    df_train_temp = df_train.copy()\n",
    "    df_test_temp = df_test.copy()\n",
    "    \n",
    "    # iterate over each variable\n",
    "    for col in categorical_vars:\n",
    "        \n",
    "        # make a dictionary of categories, target-mean pairs\n",
    "        target_mean_dict = df_train.groupby([col])['survived'].mean().to_dict()\n",
    "        \n",
    "        # replace the categories by the mean of the target\n",
    "        df_train_temp[col] = df_train[col].map(target_mean_dict)\n",
    "        df_test_temp[col] = df_test[col].map(target_mean_dict)\n",
    "    \n",
    "    # drop the target from the daatset\n",
    "    df_train_temp.drop(['survived'], axis=1, inplace=True)\n",
    "    df_test_temp.drop(['survived'], axis=1, inplace=True)\n",
    "    \n",
    "    # return  remapped datasets\n",
    "    return df_train_temp, df_test_temp"
   ]
  },
  {
   "cell_type": "code",
   "execution_count": 7,
   "metadata": {},
   "outputs": [
    {
     "data": {
      "text/html": [
       "<div>\n",
       "<style scoped>\n",
       "    .dataframe tbody tr th:only-of-type {\n",
       "        vertical-align: middle;\n",
       "    }\n",
       "\n",
       "    .dataframe tbody tr th {\n",
       "        vertical-align: top;\n",
       "    }\n",
       "\n",
       "    .dataframe thead th {\n",
       "        text-align: right;\n",
       "    }\n",
       "</style>\n",
       "<table border=\"1\" class=\"dataframe\">\n",
       "  <thead>\n",
       "    <tr style=\"text-align: right;\">\n",
       "      <th></th>\n",
       "      <th>pclass</th>\n",
       "      <th>sex</th>\n",
       "      <th>embarked</th>\n",
       "      <th>cabin</th>\n",
       "    </tr>\n",
       "  </thead>\n",
       "  <tbody>\n",
       "    <tr>\n",
       "      <th>840</th>\n",
       "      <td>0.243902</td>\n",
       "      <td>0.199664</td>\n",
       "      <td>0.338534</td>\n",
       "      <td>0.295875</td>\n",
       "    </tr>\n",
       "    <tr>\n",
       "      <th>866</th>\n",
       "      <td>0.243902</td>\n",
       "      <td>0.199664</td>\n",
       "      <td>0.338534</td>\n",
       "      <td>0.295875</td>\n",
       "    </tr>\n",
       "    <tr>\n",
       "      <th>427</th>\n",
       "      <td>0.416667</td>\n",
       "      <td>0.199664</td>\n",
       "      <td>0.338534</td>\n",
       "      <td>0.295875</td>\n",
       "    </tr>\n",
       "    <tr>\n",
       "      <th>478</th>\n",
       "      <td>0.416667</td>\n",
       "      <td>0.199664</td>\n",
       "      <td>0.545946</td>\n",
       "      <td>0.295875</td>\n",
       "    </tr>\n",
       "    <tr>\n",
       "      <th>1305</th>\n",
       "      <td>0.243902</td>\n",
       "      <td>0.199664</td>\n",
       "      <td>0.338534</td>\n",
       "      <td>0.295875</td>\n",
       "    </tr>\n",
       "  </tbody>\n",
       "</table>\n",
       "</div>"
      ],
      "text/plain": [
       "        pclass       sex  embarked     cabin\n",
       "840   0.243902  0.199664  0.338534  0.295875\n",
       "866   0.243902  0.199664  0.338534  0.295875\n",
       "427   0.416667  0.199664  0.338534  0.295875\n",
       "478   0.416667  0.199664  0.545946  0.295875\n",
       "1305  0.243902  0.199664  0.338534  0.295875"
      ]
     },
     "execution_count": 7,
     "metadata": {},
     "output_type": "execute_result"
    }
   ],
   "source": [
    "categorical_vars = ['pclass', 'sex', 'embarked', 'cabin']\n",
    "\n",
    "X_train_enc, X_test_enc = mean_encoding(X_train, X_test, categorical_vars)\n",
    "\n",
    "X_train_enc.head()"
   ]
  },
  {
   "cell_type": "code",
   "execution_count": 8,
   "metadata": {},
   "outputs": [
    {
     "data": {
      "text/html": [
       "<div>\n",
       "<style scoped>\n",
       "    .dataframe tbody tr th:only-of-type {\n",
       "        vertical-align: middle;\n",
       "    }\n",
       "\n",
       "    .dataframe tbody tr th {\n",
       "        vertical-align: top;\n",
       "    }\n",
       "\n",
       "    .dataframe thead th {\n",
       "        text-align: right;\n",
       "    }\n",
       "</style>\n",
       "<table border=\"1\" class=\"dataframe\">\n",
       "  <thead>\n",
       "    <tr style=\"text-align: right;\">\n",
       "      <th></th>\n",
       "      <th>pclass</th>\n",
       "      <th>sex</th>\n",
       "      <th>embarked</th>\n",
       "      <th>cabin</th>\n",
       "    </tr>\n",
       "  </thead>\n",
       "  <tbody>\n",
       "    <tr>\n",
       "      <th>609</th>\n",
       "      <td>0.243902</td>\n",
       "      <td>0.199664</td>\n",
       "      <td>0.338534</td>\n",
       "      <td>0.295875</td>\n",
       "    </tr>\n",
       "    <tr>\n",
       "      <th>412</th>\n",
       "      <td>0.416667</td>\n",
       "      <td>0.199664</td>\n",
       "      <td>0.338534</td>\n",
       "      <td>0.295875</td>\n",
       "    </tr>\n",
       "    <tr>\n",
       "      <th>528</th>\n",
       "      <td>0.416667</td>\n",
       "      <td>0.199664</td>\n",
       "      <td>0.338534</td>\n",
       "      <td>0.295875</td>\n",
       "    </tr>\n",
       "    <tr>\n",
       "      <th>1147</th>\n",
       "      <td>0.243902</td>\n",
       "      <td>0.716981</td>\n",
       "      <td>0.329545</td>\n",
       "      <td>0.295875</td>\n",
       "    </tr>\n",
       "    <tr>\n",
       "      <th>942</th>\n",
       "      <td>0.243902</td>\n",
       "      <td>0.199664</td>\n",
       "      <td>0.338534</td>\n",
       "      <td>0.295875</td>\n",
       "    </tr>\n",
       "  </tbody>\n",
       "</table>\n",
       "</div>"
      ],
      "text/plain": [
       "        pclass       sex  embarked     cabin\n",
       "609   0.243902  0.199664  0.338534  0.295875\n",
       "412   0.416667  0.199664  0.338534  0.295875\n",
       "528   0.416667  0.199664  0.338534  0.295875\n",
       "1147  0.243902  0.716981  0.329545  0.295875\n",
       "942   0.243902  0.199664  0.338534  0.295875"
      ]
     },
     "execution_count": 8,
     "metadata": {},
     "output_type": "execute_result"
    }
   ],
   "source": [
    "X_test_enc.head()"
   ]
  },
  {
   "cell_type": "markdown",
   "metadata": {},
   "source": [
    "The strings were replaced by the target mean.\n",
    "\n",
    "### Determine the roc-auc using the variable values as input"
   ]
  },
  {
   "cell_type": "code",
   "execution_count": 9,
   "metadata": {
    "scrolled": true
   },
   "outputs": [],
   "source": [
    "# now, we calculate a roc-auc value, using the encoded variables\n",
    "# as predictions\n",
    "\n",
    "roc_values = []\n",
    "\n",
    "for feature in categorical_vars:\n",
    "    \n",
    "    roc_values.append(roc_auc_score(y_test, X_test_enc[feature])) "
   ]
  },
  {
   "cell_type": "code",
   "execution_count": 10,
   "metadata": {},
   "outputs": [
    {
     "data": {
      "text/plain": [
       "sex         0.784164\n",
       "pclass      0.630389\n",
       "cabin       0.610934\n",
       "embarked    0.573342\n",
       "dtype: float64"
      ]
     },
     "execution_count": 10,
     "metadata": {},
     "output_type": "execute_result"
    }
   ],
   "source": [
    "# I make a series for easy visualisation\n",
    "\n",
    "m1 = pd.Series(roc_values)\n",
    "m1.index = categorical_vars\n",
    "m1.sort_values(ascending=False)"
   ]
  },
  {
   "cell_type": "markdown",
   "metadata": {},
   "source": [
    "We can see, that all the features are important, because the roc_auc for all of them is higher than 0.5.\n",
    "\n",
    "Sex seems to be the most important feature to predict survival, as its roc_auc is the highest.\n",
    "\n",
    "As you see, this is a very powerful, yet straightforward approach to feature selection.\n",
    "\n",
    "## Feature Selection on numerical variables\n",
    "\n",
    "The procedure is exactly the same, but it requires one additional first step which is to divide the continuous variable into bins. \n",
    "\n",
    "The authors of the method divide the variable in 100 quantiles, that is 100 bins. In principle, you could divide the variable in less bins. Here I will divide the variable in 5 bins only.\n",
    "\n",
    "I will work with the numerical variables Age and Fare."
   ]
  },
  {
   "cell_type": "code",
   "execution_count": 11,
   "metadata": {},
   "outputs": [
    {
     "data": {
      "text/plain": [
       "((914, 3), (392, 3))"
      ]
     },
     "execution_count": 11,
     "metadata": {},
     "output_type": "execute_result"
    }
   ],
   "source": [
    "# separate train and test sets\n",
    "X_train, X_test, y_train, y_test = train_test_split(\n",
    "    data[['age', 'fare', 'survived']],\n",
    "    data['survived'],\n",
    "    test_size=0.3,\n",
    "    random_state=0)\n",
    "\n",
    "X_train.shape, X_test.shape"
   ]
  },
  {
   "cell_type": "code",
   "execution_count": 12,
   "metadata": {},
   "outputs": [],
   "source": [
    "# fill missing values\n",
    "\n",
    "X_train = X_train.fillna(0)\n",
    "X_test = X_test.fillna(0)"
   ]
  },
  {
   "cell_type": "markdown",
   "metadata": {},
   "source": [
    "#### Bin variable Age"
   ]
  },
  {
   "cell_type": "code",
   "execution_count": 13,
   "metadata": {},
   "outputs": [
    {
     "data": {
      "text/html": [
       "<div>\n",
       "<style scoped>\n",
       "    .dataframe tbody tr th:only-of-type {\n",
       "        vertical-align: middle;\n",
       "    }\n",
       "\n",
       "    .dataframe tbody tr th {\n",
       "        vertical-align: top;\n",
       "    }\n",
       "\n",
       "    .dataframe thead th {\n",
       "        text-align: right;\n",
       "    }\n",
       "</style>\n",
       "<table border=\"1\" class=\"dataframe\">\n",
       "  <thead>\n",
       "    <tr style=\"text-align: right;\">\n",
       "      <th></th>\n",
       "      <th>age_binned</th>\n",
       "      <th>age</th>\n",
       "    </tr>\n",
       "  </thead>\n",
       "  <tbody>\n",
       "    <tr>\n",
       "      <th>840</th>\n",
       "      <td>2</td>\n",
       "      <td>29.813199</td>\n",
       "    </tr>\n",
       "    <tr>\n",
       "      <th>866</th>\n",
       "      <td>4</td>\n",
       "      <td>43.000000</td>\n",
       "    </tr>\n",
       "    <tr>\n",
       "      <th>427</th>\n",
       "      <td>4</td>\n",
       "      <td>44.000000</td>\n",
       "    </tr>\n",
       "    <tr>\n",
       "      <th>478</th>\n",
       "      <td>1</td>\n",
       "      <td>25.000000</td>\n",
       "    </tr>\n",
       "    <tr>\n",
       "      <th>1305</th>\n",
       "      <td>1</td>\n",
       "      <td>29.000000</td>\n",
       "    </tr>\n",
       "    <tr>\n",
       "      <th>453</th>\n",
       "      <td>4</td>\n",
       "      <td>63.000000</td>\n",
       "    </tr>\n",
       "    <tr>\n",
       "      <th>117</th>\n",
       "      <td>3</td>\n",
       "      <td>30.000000</td>\n",
       "    </tr>\n",
       "    <tr>\n",
       "      <th>482</th>\n",
       "      <td>3</td>\n",
       "      <td>34.000000</td>\n",
       "    </tr>\n",
       "    <tr>\n",
       "      <th>294</th>\n",
       "      <td>3</td>\n",
       "      <td>39.000000</td>\n",
       "    </tr>\n",
       "    <tr>\n",
       "      <th>261</th>\n",
       "      <td>4</td>\n",
       "      <td>50.000000</td>\n",
       "    </tr>\n",
       "  </tbody>\n",
       "</table>\n",
       "</div>"
      ],
      "text/plain": [
       "      age_binned        age\n",
       "840            2  29.813199\n",
       "866            4  43.000000\n",
       "427            4  44.000000\n",
       "478            1  25.000000\n",
       "1305           1  29.000000\n",
       "453            4  63.000000\n",
       "117            3  30.000000\n",
       "482            3  34.000000\n",
       "294            3  39.000000\n",
       "261            4  50.000000"
      ]
     },
     "execution_count": 13,
     "metadata": {},
     "output_type": "execute_result"
    }
   ],
   "source": [
    "# Let's divide Age in 10 bins. We use the qcut (quantile cut)\n",
    "# function from pandas indicating that 11 cutting points (q),\n",
    "# thus 10 bins.\n",
    "\n",
    "# retbins= True indicates that I want to capture the limits of\n",
    "# each interval (so I can then use them to cut the test set)\n",
    "\n",
    "X_train['age_binned'], intervals = pd.qcut(\n",
    "    X_train['age'],\n",
    "    q = 5,\n",
    "    labels=False,\n",
    "    retbins=True,\n",
    "    precision=3,\n",
    "    duplicates='drop',\n",
    ")\n",
    "\n",
    "X_train[['age_binned', 'age']].head(10)"
   ]
  },
  {
   "cell_type": "code",
   "execution_count": 14,
   "metadata": {},
   "outputs": [
    {
     "data": {
      "text/plain": [
       "5"
      ]
     },
     "execution_count": 14,
     "metadata": {},
     "output_type": "execute_result"
    }
   ],
   "source": [
    "# count the number of distinct bins\n",
    "\n",
    "X_train['age_binned'].nunique()"
   ]
  },
  {
   "cell_type": "code",
   "execution_count": 15,
   "metadata": {},
   "outputs": [
    {
     "data": {
      "text/plain": [
       "array([2, 4, 1, 3, 0], dtype=int64)"
      ]
     },
     "execution_count": 15,
     "metadata": {},
     "output_type": "execute_result"
    }
   ],
   "source": [
    "# display the bins\n",
    "\n",
    "X_train['age_binned'].unique()"
   ]
  },
  {
   "cell_type": "code",
   "execution_count": 16,
   "metadata": {},
   "outputs": [
    {
     "data": {
      "text/html": [
       "<div>\n",
       "<style scoped>\n",
       "    .dataframe tbody tr th:only-of-type {\n",
       "        vertical-align: middle;\n",
       "    }\n",
       "\n",
       "    .dataframe tbody tr th {\n",
       "        vertical-align: top;\n",
       "    }\n",
       "\n",
       "    .dataframe thead th {\n",
       "        text-align: right;\n",
       "    }\n",
       "</style>\n",
       "<table border=\"1\" class=\"dataframe\">\n",
       "  <thead>\n",
       "    <tr style=\"text-align: right;\">\n",
       "      <th></th>\n",
       "      <th>age_binned</th>\n",
       "      <th>age</th>\n",
       "    </tr>\n",
       "  </thead>\n",
       "  <tbody>\n",
       "    <tr>\n",
       "      <th>609</th>\n",
       "      <td>0.0</td>\n",
       "      <td>0.833300</td>\n",
       "    </tr>\n",
       "    <tr>\n",
       "      <th>412</th>\n",
       "      <td>3.0</td>\n",
       "      <td>34.000000</td>\n",
       "    </tr>\n",
       "    <tr>\n",
       "      <th>528</th>\n",
       "      <td>0.0</td>\n",
       "      <td>19.000000</td>\n",
       "    </tr>\n",
       "    <tr>\n",
       "      <th>1147</th>\n",
       "      <td>2.0</td>\n",
       "      <td>29.813199</td>\n",
       "    </tr>\n",
       "    <tr>\n",
       "      <th>942</th>\n",
       "      <td>2.0</td>\n",
       "      <td>29.813199</td>\n",
       "    </tr>\n",
       "    <tr>\n",
       "      <th>870</th>\n",
       "      <td>2.0</td>\n",
       "      <td>29.813199</td>\n",
       "    </tr>\n",
       "    <tr>\n",
       "      <th>5</th>\n",
       "      <td>4.0</td>\n",
       "      <td>48.000000</td>\n",
       "    </tr>\n",
       "    <tr>\n",
       "      <th>231</th>\n",
       "      <td>4.0</td>\n",
       "      <td>47.000000</td>\n",
       "    </tr>\n",
       "    <tr>\n",
       "      <th>731</th>\n",
       "      <td>0.0</td>\n",
       "      <td>9.000000</td>\n",
       "    </tr>\n",
       "    <tr>\n",
       "      <th>1289</th>\n",
       "      <td>2.0</td>\n",
       "      <td>29.813199</td>\n",
       "    </tr>\n",
       "  </tbody>\n",
       "</table>\n",
       "</div>"
      ],
      "text/plain": [
       "      age_binned        age\n",
       "609          0.0   0.833300\n",
       "412          3.0  34.000000\n",
       "528          0.0  19.000000\n",
       "1147         2.0  29.813199\n",
       "942          2.0  29.813199\n",
       "870          2.0  29.813199\n",
       "5            4.0  48.000000\n",
       "231          4.0  47.000000\n",
       "731          0.0   9.000000\n",
       "1289         2.0  29.813199"
      ]
     },
     "execution_count": 16,
     "metadata": {},
     "output_type": "execute_result"
    }
   ],
   "source": [
    "# now I use the interval limits calculated in the previous cell to\n",
    "# bin the testing set\n",
    "\n",
    "X_test['age_binned'] = pd.cut(x = X_test['age'], bins=intervals, labels=False)\n",
    "\n",
    "X_test[['age_binned', 'age']].head(10)"
   ]
  },
  {
   "cell_type": "markdown",
   "metadata": {},
   "source": [
    "#### Bin Variable Fare"
   ]
  },
  {
   "cell_type": "code",
   "execution_count": 17,
   "metadata": {},
   "outputs": [],
   "source": [
    "# train\n",
    "X_train['fare_binned'], intervals = pd.qcut(\n",
    "    X_train['fare'],\n",
    "    q=5,\n",
    "    labels=False,\n",
    "    retbins=True,\n",
    "    precision=3,\n",
    "    duplicates='drop',\n",
    ")\n",
    "\n",
    "# test\n",
    "X_test['fare_binned'] = pd.cut(x = X_test['fare'], bins=intervals, labels=False)"
   ]
  },
  {
   "cell_type": "code",
   "execution_count": 18,
   "metadata": {},
   "outputs": [
    {
     "data": {
      "text/plain": [
       "5"
      ]
     },
     "execution_count": 18,
     "metadata": {},
     "output_type": "execute_result"
    }
   ],
   "source": [
    "X_test['fare_binned'].nunique()"
   ]
  },
  {
   "cell_type": "code",
   "execution_count": 19,
   "metadata": {},
   "outputs": [
    {
     "data": {
      "text/plain": [
       "age            0\n",
       "fare           0\n",
       "survived       0\n",
       "age_binned     2\n",
       "fare_binned    5\n",
       "dtype: int64"
      ]
     },
     "execution_count": 19,
     "metadata": {},
     "output_type": "execute_result"
    }
   ],
   "source": [
    "X_test.isnull().sum()"
   ]
  },
  {
   "cell_type": "code",
   "execution_count": 20,
   "metadata": {},
   "outputs": [],
   "source": [
    "# test shows some missing data. The missing values in \n",
    "# the test set appear when the original values are outside\n",
    "# the boundaries of the invervals determined in the train set\n",
    "# that is, values that are smaller or bigger than the min and max\n",
    "# values from the train set\n",
    "\n",
    "# to speed out the demo, I will just replace them by 0 in this notebook\n",
    "\n",
    "X_train = X_train.fillna(0)\n",
    "X_test = X_test.fillna(0)"
   ]
  },
  {
   "cell_type": "markdown",
   "metadata": {},
   "source": [
    "### Replace bins with target mean"
   ]
  },
  {
   "cell_type": "code",
   "execution_count": 21,
   "metadata": {},
   "outputs": [
    {
     "data": {
      "text/html": [
       "<div>\n",
       "<style scoped>\n",
       "    .dataframe tbody tr th:only-of-type {\n",
       "        vertical-align: middle;\n",
       "    }\n",
       "\n",
       "    .dataframe tbody tr th {\n",
       "        vertical-align: top;\n",
       "    }\n",
       "\n",
       "    .dataframe thead th {\n",
       "        text-align: right;\n",
       "    }\n",
       "</style>\n",
       "<table border=\"1\" class=\"dataframe\">\n",
       "  <thead>\n",
       "    <tr style=\"text-align: right;\">\n",
       "      <th></th>\n",
       "      <th>age_binned</th>\n",
       "      <th>fare_binned</th>\n",
       "    </tr>\n",
       "  </thead>\n",
       "  <tbody>\n",
       "    <tr>\n",
       "      <th>840</th>\n",
       "      <td>0.254237</td>\n",
       "      <td>0.367232</td>\n",
       "    </tr>\n",
       "    <tr>\n",
       "      <th>866</th>\n",
       "      <td>0.421965</td>\n",
       "      <td>0.256831</td>\n",
       "    </tr>\n",
       "    <tr>\n",
       "      <th>427</th>\n",
       "      <td>0.421965</td>\n",
       "      <td>0.367232</td>\n",
       "    </tr>\n",
       "    <tr>\n",
       "      <th>478</th>\n",
       "      <td>0.379487</td>\n",
       "      <td>0.629834</td>\n",
       "    </tr>\n",
       "    <tr>\n",
       "      <th>1305</th>\n",
       "      <td>0.379487</td>\n",
       "      <td>0.207447</td>\n",
       "    </tr>\n",
       "  </tbody>\n",
       "</table>\n",
       "</div>"
      ],
      "text/plain": [
       "      age_binned  fare_binned\n",
       "840     0.254237     0.367232\n",
       "866     0.421965     0.256831\n",
       "427     0.421965     0.367232\n",
       "478     0.379487     0.629834\n",
       "1305    0.379487     0.207447"
      ]
     },
     "execution_count": 21,
     "metadata": {},
     "output_type": "execute_result"
    }
   ],
   "source": [
    "# now we use our previous function to encode the variables\n",
    "# with the target mean\n",
    "\n",
    "binned_vars = ['age_binned', 'fare_binned']\n",
    "\n",
    "X_train_enc, X_test_enc = mean_encoding(\n",
    "    X_train[binned_vars+['survived']], X_test[binned_vars+['survived']], binned_vars)\n",
    "\n",
    "X_train_enc.head()"
   ]
  },
  {
   "cell_type": "markdown",
   "metadata": {},
   "source": [
    "### Determine roc-auc using encodings"
   ]
  },
  {
   "cell_type": "code",
   "execution_count": 22,
   "metadata": {},
   "outputs": [],
   "source": [
    "# now, we calculate a roc-auc value, using the encoded variables\n",
    "# as predictions\n",
    "\n",
    "roc_values = []\n",
    "\n",
    "for feature in binned_vars:\n",
    "    \n",
    "    roc_values.append(roc_auc_score(y_test, X_test_enc[feature])) "
   ]
  },
  {
   "cell_type": "code",
   "execution_count": 23,
   "metadata": {},
   "outputs": [
    {
     "data": {
      "text/plain": [
       "fare_binned    0.666964\n",
       "age_binned     0.497335\n",
       "dtype: float64"
      ]
     },
     "execution_count": 23,
     "metadata": {},
     "output_type": "execute_result"
    }
   ],
   "source": [
    "# I make a series for easy visualisation\n",
    "\n",
    "m1 = pd.Series(roc_values)\n",
    "m1.index = binned_vars\n",
    "m1.sort_values(ascending=False)"
   ]
  },
  {
   "cell_type": "markdown",
   "metadata": {},
   "source": [
    "Fare, is a much better predictor of Survival. Age produces a random output, the roc-auc is 0.5.\n",
    "\n",
    "\n",
    "**Some thoughts**\n",
    "\n",
    "The authors mention that by using this method, you are able to compare directly numerical with categorical variables. In a sense this is true, however we need to keep in mind, that categorical variables may or may not (and typically they will not) show the same percentage of observations per label. However, when we divide a numerical variable into quantile bins, we guarantee that each bin shows the same percentage of observations.\n",
    "\n",
    "Alternatively, instead of binning into quantiles, we can bin into equal-distance bins."
   ]
  },
  {
   "cell_type": "markdown",
   "metadata": {},
   "source": [
    "That is all for this lecture, I hope you enjoyed it and see you in the next one!"
   ]
  }
 ],
 "metadata": {
  "kernelspec": {
   "display_name": "fsml",
   "language": "python",
   "name": "fsml"
  },
  "language_info": {
   "codemirror_mode": {
    "name": "ipython",
    "version": 3
   },
   "file_extension": ".py",
   "mimetype": "text/x-python",
   "name": "python",
   "nbconvert_exporter": "python",
   "pygments_lexer": "ipython3",
   "version": "3.10.5"
  },
  "toc": {
   "base_numbering": 1,
   "nav_menu": {},
   "number_sections": true,
   "sideBar": true,
   "skip_h1_title": false,
   "title_cell": "Table of Contents",
   "title_sidebar": "Contents",
   "toc_cell": false,
   "toc_position": {},
   "toc_section_display": "block",
   "toc_window_display": true
  }
 },
 "nbformat": 4,
 "nbformat_minor": 2
}
